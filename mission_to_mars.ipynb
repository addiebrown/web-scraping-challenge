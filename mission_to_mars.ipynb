{
 "cells": [
  {
   "cell_type": "code",
   "execution_count": 36,
   "metadata": {},
   "outputs": [],
   "source": [
    "from splinter import Browser\n",
    "from bs4 import BeautifulSoup as bs"
   ]
  },
  {
   "cell_type": "code",
   "execution_count": 37,
   "metadata": {},
   "outputs": [
    {
     "name": "stdout",
     "output_type": "stream",
     "text": [
      "/usr/local/bin/chromedriver\r\n"
     ]
    }
   ],
   "source": [
    "!which chromedriver"
   ]
  },
  {
   "cell_type": "code",
   "execution_count": 38,
   "metadata": {},
   "outputs": [],
   "source": [
    "executable_path={'executable_path': '/usr/local/bin/chromedriver'};\n",
    "browser = Browser('chrome',**executable_path)"
   ]
  },
  {
   "cell_type": "code",
   "execution_count": 39,
   "metadata": {},
   "outputs": [],
   "source": [
    "# Create BeautifulSoup object; parse with 'html.parser'\n",
    "soup = bs(response.text, 'html.parser')"
   ]
  },
  {
   "cell_type": "code",
   "execution_count": 40,
   "metadata": {},
   "outputs": [
    {
     "data": {
      "text/plain": [
       "[<div class=\"content_title\">\n",
       " \t\t\t\t\t\t\t\t\t\t  Olympia Undae\n",
       " \t\t\t\t\t\t\t\t\t\t</div>, <div class=\"content_title\">\n",
       " \t\t\t\t\t\t\t\t\t\t  InSight's Arm Camera Stares Into the Pit\n",
       " \t\t\t\t\t\t\t\t\t\t</div>, <div class=\"content_title\">\n",
       " \t\t\t\t\t\t\t\t\t\t  Micoud Crater\n",
       " \t\t\t\t\t\t\t\t\t\t</div>, <div class=\"content_title\">\n",
       " \t\t\t\t\t\t\t\t\t\t  Terraced Wall Crater\n",
       " \t\t\t\t\t\t\t\t\t\t</div>, <div class=\"content_title\">\n",
       " \t\t\t\t\t\t\t\t\t\t  Lyot Crater Dunes\n",
       " \t\t\t\t\t\t\t\t\t\t</div>, <div class=\"content_title\">\n",
       " \t\t\t\t\t\t\t\t\t\t  Chincoteague Crater\n",
       " \t\t\t\t\t\t\t\t\t\t</div>, <div class=\"content_title\">\n",
       " \t\t\t\t\t\t\t\t\t\t  Nili Fossae\n",
       " \t\t\t\t\t\t\t\t\t\t</div>, <div class=\"content_title\">\n",
       " \t\t\t\t\t\t\t\t\t\t  Aromatum Chaos\n",
       " \t\t\t\t\t\t\t\t\t\t</div>, <div class=\"content_title\">\n",
       " \t\t\t\t\t\t\t\t\t\t  Medusae Fossae\n",
       " \t\t\t\t\t\t\t\t\t\t</div>, <div class=\"content_title\">\n",
       " \t\t\t\t\t\t\t\t\t\t  Idaeus Fossae\n",
       " \t\t\t\t\t\t\t\t\t\t</div>, <div class=\"content_title\">\n",
       " \t\t\t\t\t\t\t\t\t\t  InSight's Heat Probe Partially Backs Out of Hole\n",
       " \t\t\t\t\t\t\t\t\t\t</div>, <div class=\"content_title\">\n",
       " \t\t\t\t\t\t\t\t\t\t  Indus Vallis\n",
       " \t\t\t\t\t\t\t\t\t\t</div>, <div class=\"content_title\">\n",
       " \t\t\t\t\t\t\t\t\t\t  Curiosity at Glen Etive\n",
       " \t\t\t\t\t\t\t\t\t\t</div>, <div class=\"content_title\">\n",
       " \t\t\t\t\t\t\t\t\t\t  Dark Slope Streaks\n",
       " \t\t\t\t\t\t\t\t\t\t</div>, <div class=\"content_title\">\n",
       " \t\t\t\t\t\t\t\t\t\t  Indus Vallis Tributaries\n",
       " \t\t\t\t\t\t\t\t\t\t</div>, <div class=\"content_title\">\n",
       " \t\t\t\t\t\t\t\t\t\t  Hephaestus Fossae\n",
       " \t\t\t\t\t\t\t\t\t\t</div>, <div class=\"content_title\">\n",
       " \t\t\t\t\t\t\t\t\t\t  Enigmatic Canyon Dunes\n",
       " \t\t\t\t\t\t\t\t\t\t</div>, <div class=\"content_title\">\n",
       " \t\t\t\t\t\t\t\t\t\t  Pristine Dust Deposits in Syria Planum\n",
       " \t\t\t\t\t\t\t\t\t\t</div>, <div class=\"content_title\">\n",
       " \t\t\t\t\t\t\t\t\t\t  Down in Chukhung Crater\n",
       " \t\t\t\t\t\t\t\t\t\t</div>, <div class=\"content_title\">\n",
       " \t\t\t\t\t\t\t\t\t\t  A Martian Game Board\n",
       " \t\t\t\t\t\t\t\t\t\t</div>, <div class=\"content_title\">\n",
       " \t\t\t\t\t\t\t\t\t\t  Athabasca Valles\n",
       " \t\t\t\t\t\t\t\t\t\t</div>, <div class=\"content_title\">\n",
       " \t\t\t\t\t\t\t\t\t\t  Uranius Fossae\n",
       " \t\t\t\t\t\t\t\t\t\t</div>, <div class=\"content_title\">\n",
       " \t\t\t\t\t\t\t\t\t\t  Pinning Helps the Mole Move\n",
       " \t\t\t\t\t\t\t\t\t\t</div>, <div class=\"content_title\">\n",
       " \t\t\t\t\t\t\t\t\t\t  Elysium Fossae\n",
       " \t\t\t\t\t\t\t\t\t\t</div>, <div class=\"content_title\">\n",
       " \t\t\t\t\t\t\t\t\t\t  HiRISE Watches Curiosity Journey Across the Clay Unit\n",
       " \t\t\t\t\t\t\t\t\t\t</div>, <div class=\"content_title\">\n",
       " \t\t\t\t\t\t\t\t\t\t  The Best View of InSight\n",
       " \t\t\t\t\t\t\t\t\t\t</div>, <div class=\"content_title\">\n",
       " \t\t\t\t\t\t\t\t\t\t  Cerberus Fossae\n",
       " \t\t\t\t\t\t\t\t\t\t</div>, <div class=\"content_title\">\n",
       " \t\t\t\t\t\t\t\t\t\t  Arabia Terra Channel\n",
       " \t\t\t\t\t\t\t\t\t\t</div>, <div class=\"content_title\">\n",
       " \t\t\t\t\t\t\t\t\t\t  Olympica Fossae\n",
       " \t\t\t\t\t\t\t\t\t\t</div>, <div class=\"content_title\">\n",
       " \t\t\t\t\t\t\t\t\t\t  Terra Cimmeria\n",
       " \t\t\t\t\t\t\t\t\t\t</div>, <div class=\"content_title\">\n",
       " \t\t\t\t\t\t\t\t\t\t  Lyot Crater Dunes\n",
       " \t\t\t\t\t\t\t\t\t\t</div>, <div class=\"content_title\">\n",
       " \t\t\t\t\t\t\t\t\t\t  Cerulli Crater Rim\n",
       " \t\t\t\t\t\t\t\t\t\t</div>, <div class=\"content_title\">\n",
       " <a href=\"http://photojournal.jpl.nasa.gov/\">\n",
       " \t\t\t\t  JPL Photojournal\n",
       " \t\t\t\t</a>\n",
       " </div>, <div class=\"content_title\">\n",
       " <a href=\"http://www.nasa.gov/multimedia/imagegallery/\">\n",
       " \t\t\t\t  Great images in NASA\n",
       " \t\t\t\t</a>\n",
       " </div>, <div class=\"content_title\">\n",
       " \t\t\t\t\t\t\t\tMars Scientists Investigate Ancient Life in Australia\n",
       " \t\t\t\t\t\t\t   </div>, <div class=\"content_title\">\n",
       " \t\t\t\t\t\t\t\tNASA's Mars 2020 Will Hunt for Microscopic Fossils\n",
       " \t\t\t\t\t\t\t   </div>, <div class=\"content_title\">\n",
       " \t\t\t\t\t\t\t\tNASA's Mars 2020 Heads Into the Test Chamber\n",
       " \t\t\t\t\t\t\t   </div>]"
      ]
     },
     "execution_count": 40,
     "metadata": {},
     "output_type": "execute_result"
    }
   ],
   "source": [
    "#Narrow the div and class to see how best to loop through\n",
    "results = soup.find_all('div', class_=\"content_title\")\n",
    "results"
   ]
  },
  {
   "cell_type": "code",
   "execution_count": 41,
   "metadata": {},
   "outputs": [
    {
     "data": {
      "text/plain": [
       "[<div class=\"content_title\">\n",
       " <a href=\"http://photojournal.jpl.nasa.gov/\">\n",
       " \t\t\t\t  JPL Photojournal\n",
       " \t\t\t\t</a>\n",
       " </div>, <div class=\"content_title\">\n",
       " <a href=\"http://www.nasa.gov/multimedia/imagegallery/\">\n",
       " \t\t\t\t  Great images in NASA\n",
       " \t\t\t\t</a>\n",
       " </div>]"
      ]
     },
     "execution_count": 41,
     "metadata": {},
     "output_type": "execute_result"
    }
   ],
   "source": [
    "# A blank list to hold the headlines\n",
    "news_titles = []\n",
    "# Loop over div elements\n",
    "for result in results:\n",
    "    # Identify the anchor...\n",
    "    if (result.a):\n",
    "        # And the anchor has non-blank text...\n",
    "        if (result.a.text):\n",
    "            # Append thext to the list\n",
    "            news_titles.append(result)\n",
    "news_titles"
   ]
  },
  {
   "cell_type": "code",
   "execution_count": 42,
   "metadata": {},
   "outputs": [
    {
     "ename": "IndexError",
     "evalue": "list index out of range",
     "output_type": "error",
     "traceback": [
      "\u001b[0;31m---------------------------------------------------------------------------\u001b[0m",
      "\u001b[0;31mIndexError\u001b[0m                                Traceback (most recent call last)",
      "\u001b[0;32m<ipython-input-42-ae1058b948c5>\u001b[0m in \u001b[0;36m<module>\u001b[0;34m\u001b[0m\n\u001b[1;32m      2\u001b[0m \u001b[0;31m# Print only the headlines\u001b[0m\u001b[0;34m\u001b[0m\u001b[0;34m\u001b[0m\u001b[0;34m\u001b[0m\u001b[0m\n\u001b[1;32m      3\u001b[0m \u001b[0;32mfor\u001b[0m \u001b[0mx\u001b[0m \u001b[0;32min\u001b[0m \u001b[0mrange\u001b[0m\u001b[0;34m(\u001b[0m\u001b[0;36m6\u001b[0m\u001b[0;34m)\u001b[0m\u001b[0;34m:\u001b[0m\u001b[0;34m\u001b[0m\u001b[0;34m\u001b[0m\u001b[0m\n\u001b[0;32m----> 4\u001b[0;31m     \u001b[0mvar\u001b[0m\u001b[0;34m=\u001b[0m\u001b[0mnews_titles\u001b[0m\u001b[0;34m[\u001b[0m\u001b[0mx\u001b[0m\u001b[0;34m]\u001b[0m\u001b[0;34m.\u001b[0m\u001b[0mtext\u001b[0m\u001b[0;34m\u001b[0m\u001b[0;34m\u001b[0m\u001b[0m\n\u001b[0m\u001b[1;32m      5\u001b[0m     \u001b[0mnewvar\u001b[0m \u001b[0;34m=\u001b[0m \u001b[0mvar\u001b[0m\u001b[0;34m.\u001b[0m\u001b[0mstrip\u001b[0m\u001b[0;34m(\u001b[0m\u001b[0;34m'\\n\\n'\u001b[0m\u001b[0;34m)\u001b[0m\u001b[0;34m\u001b[0m\u001b[0;34m\u001b[0m\u001b[0m\n\u001b[1;32m      6\u001b[0m     \u001b[0mfinalnewstitles\u001b[0m\u001b[0;34m.\u001b[0m\u001b[0mappend\u001b[0m\u001b[0;34m(\u001b[0m\u001b[0mnewvar\u001b[0m\u001b[0;34m)\u001b[0m\u001b[0;34m\u001b[0m\u001b[0;34m\u001b[0m\u001b[0m\n",
      "\u001b[0;31mIndexError\u001b[0m: list index out of range"
     ]
    }
   ],
   "source": [
    "finalnewstitles = []\n",
    "# Print only the headlines\n",
    "for x in range(6):\n",
    "    var=news_titles[x].text\n",
    "    newvar = var.strip('\\n\\n')\n",
    "    finalnewstitles.append(newvar)\n",
    "finalnewstitles"
   ]
  },
  {
   "cell_type": "code",
   "execution_count": null,
   "metadata": {},
   "outputs": [],
   "source": [
    "#Find classification for description paragraph below title\n",
    "presults = soup.find_all('div', class_=\"rollover_description_inner\")\n",
    "presults"
   ]
  },
  {
   "cell_type": "code",
   "execution_count": null,
   "metadata": {},
   "outputs": [],
   "source": [
    "news_p = []\n",
    "# Loop through the div results to pull out just the text\n",
    "for x in range(6):\n",
    "    var=presults[x].text\n",
    "    newvar = var.strip('\\n\\n')\n",
    "    news_p.append(newvar)\n",
    "news_p"
   ]
  },
  {
   "cell_type": "code",
   "execution_count": null,
   "metadata": {},
   "outputs": [],
   "source": [
    "#jpl mars space images \n",
    "url = 'https://www.jpl.nasa.gov/spaceimages/?search=&category=Mars'\n",
    "response = requests.get(url)\n",
    "soup = bs(response.text, 'html.parser')"
   ]
  },
  {
   "cell_type": "code",
   "execution_count": null,
   "metadata": {},
   "outputs": [],
   "source": [
    "#Review html format\n",
    "print(soup.prettify())"
   ]
  },
  {
   "cell_type": "code",
   "execution_count": null,
   "metadata": {},
   "outputs": [],
   "source": [
    "imgs = soup.find_all('a', class_=\"fancybox\")\n",
    "imgs"
   ]
  },
  {
   "cell_type": "code",
   "execution_count": null,
   "metadata": {},
   "outputs": [],
   "source": [
    "# pull image link\n",
    "feat_img = []\n",
    "for img in imgs:\n",
    "    pic = img['data-fancybox-href']\n",
    "    feat_img.append(pic)\n",
    "\n",
    "featured_image_url = 'https://www.jpl.nasa.gov' + pic\n",
    "featured_image_url"
   ]
  },
  {
   "cell_type": "code",
   "execution_count": null,
   "metadata": {},
   "outputs": [],
   "source": [
    "#mars weather"
   ]
  },
  {
   "cell_type": "code",
   "execution_count": null,
   "metadata": {},
   "outputs": [],
   "source": [
    "# Setting up windows browser with chromedriver\n",
    "#executable_path = {'executable_path': 'chromedriver.exe'}\n",
    "#browser = Browser('chrome', **executable_path, headless=False)\n",
    "\n",
    "browser = Browser(\"chrome\", executable_path=\"chromedriver\", headless=True)\n",
    "news_title, news_paragraph = mars_news(browser)\n",
    "\n",
    "url='https://twitter.com/marswxreport?lang=en'\n",
    "browser.visit(url)\n",
    "html=browser.html\n",
    "soup=bs(html,'html.parser')"
   ]
  },
  {
   "cell_type": "code",
   "execution_count": null,
   "metadata": {},
   "outputs": [],
   "source": [
    "mars_weather = soup.find('p',class_='TweetTextSize').text\n",
    "mars_weather"
   ]
  },
  {
   "cell_type": "code",
   "execution_count": null,
   "metadata": {},
   "outputs": [],
   "source": [
    "#mars facts"
   ]
  },
  {
   "cell_type": "code",
   "execution_count": null,
   "metadata": {},
   "outputs": [],
   "source": [
    "url = 'https://space-facts.com/mars/'\n",
    "response = requests.get(url)\n",
    "soup = bs(response.text, 'html.parser')"
   ]
  },
  {
   "cell_type": "code",
   "execution_count": null,
   "metadata": {},
   "outputs": [],
   "source": [
    "#formatting"
   ]
  },
  {
   "cell_type": "code",
   "execution_count": null,
   "metadata": {},
   "outputs": [],
   "source": [
    "tables = pd.read_html(url)\n",
    "tables[0]"
   ]
  },
  {
   "cell_type": "code",
   "execution_count": null,
   "metadata": {},
   "outputs": [],
   "source": [
    "marsdf = tables[0]\n",
    "marsdf"
   ]
  },
  {
   "cell_type": "code",
   "execution_count": null,
   "metadata": {},
   "outputs": [],
   "source": [
    "marsdf.columns = ['Stat', 'Measurement']\n",
    "marsdf.head()"
   ]
  },
  {
   "cell_type": "code",
   "execution_count": null,
   "metadata": {},
   "outputs": [],
   "source": [
    "s = pd.Series(marsdf['Stat'])\n",
    "marsdf['Stat'] = s.str.strip(':')\n",
    "marsdf"
   ]
  },
  {
   "cell_type": "code",
   "execution_count": null,
   "metadata": {},
   "outputs": [],
   "source": [
    "marsdf = marsdf.set_index('Stat')\n",
    "marsdf"
   ]
  },
  {
   "cell_type": "code",
   "execution_count": null,
   "metadata": {},
   "outputs": [],
   "source": [
    "#Use to_html method to generate HTML tables from df\n",
    "html_table = marsdf.to_html()\n",
    "html_table"
   ]
  },
  {
   "cell_type": "code",
   "execution_count": null,
   "metadata": {},
   "outputs": [],
   "source": [
    "#Save as html file\n",
    "marsdf.to_html('mars_table.html')"
   ]
  },
  {
   "cell_type": "code",
   "execution_count": null,
   "metadata": {},
   "outputs": [],
   "source": [
    "# Setting up windows browser with chromedriver\n",
    "executable_path = {'executable_path': 'chromedriver.exe'}\n",
    "browser = Browser('chrome', **executable_path, headless=False)"
   ]
  },
  {
   "cell_type": "code",
   "execution_count": null,
   "metadata": {},
   "outputs": [],
   "source": [
    "# Setting url for alternate browser\n",
    "url = 'https://astrogeology.usgs.gov/search/results?q=hemisphere+enhanced&k1=target&v1=Mars'\n",
    "browser.visit(url)"
   ]
  },
  {
   "cell_type": "code",
   "execution_count": null,
   "metadata": {},
   "outputs": [],
   "source": [
    "nextpage_urls = []\n",
    "imgtitles = []\n",
    "base_url = 'https://astrogeology.usgs.gov'\n",
    "\n",
    "# HTML object\n",
    "html = browser.html\n",
    "# Parse HTML with Beautiful Soup\n",
    "soup = bs(html, 'html.parser')\n",
    "# Retrieve all elements that contain hemisphere photo info\n",
    "divs = soup.find_all('div', class_='description')\n",
    "\n",
    "# Iterate through each div to pull titles and make list of hrefs to iterate through\n",
    "counter = 0\n",
    "for div in divs:\n",
    "        # Use Beautiful Soup's find() method to navigate and retrieve attributes\n",
    "    link = div.find('a')\n",
    "    href=link['href']\n",
    "    img_title = div.a.find('h3')\n",
    "    img_title = img_title.text\n",
    "    imgtitles.append(img_title)\n",
    "    next_page = base_url + href\n",
    "    nextpage_urls.append(next_page)\n",
    "    counter = counter+1\n",
    "    if (counter == 4):\n",
    "        break\n",
    "print(nextpage_urls)\n",
    "print(imgtitles)"
   ]
  },
  {
   "cell_type": "code",
   "execution_count": null,
   "metadata": {},
   "outputs": [],
   "source": [
    "# Creating loop for high resolution photo on next page\n",
    "\n",
    "my_images=[]\n",
    "for nextpage_url in nextpage_urls:\n",
    "    url = nextpage_url\n",
    "    browser.visit(url)\n",
    "    html = browser.html\n",
    "    soup = bs(html, 'html.parser')\n",
    "    link2 = soup.find('img', class_=\"wide-image\")\n",
    "    forfinal = link2['src']\n",
    "    full_img = base_url + forfinal\n",
    "    my_images.append(full_img)\n",
    "    nextpage_urls = []\n",
    "my_images"
   ]
  },
  {
   "cell_type": "code",
   "execution_count": null,
   "metadata": {},
   "outputs": [],
   "source": [
    "# Creating final list of dictionaries\n",
    "# values - imgtitles and my_images\n",
    "#ckeys- img_url and title\n",
    "hemisphere_image_urls = []\n",
    "\n",
    "cerberus = {'title':imgtitles[0], 'img_url': my_images[0]}\n",
    "schiaparelli = {'title':imgtitles[1], 'img_url': my_images[1]}\n",
    "syrtis = {'title':imgtitles[2], 'img_url': my_images[2]}\n",
    "valles = {'title':imgtitles[3], 'img_url': my_images[3]}\n",
    "\n",
    "hemisphere_image_urls = [cerberus, schiaparelli, syrtis, valles]\n",
    "print(hemisphere_image_urls)"
   ]
  }
 ],
 "metadata": {
  "kernelspec": {
   "display_name": "Python 3",
   "language": "python",
   "name": "python3"
  },
  "language_info": {
   "codemirror_mode": {
    "name": "ipython",
    "version": 3
   },
   "file_extension": ".py",
   "mimetype": "text/x-python",
   "name": "python",
   "nbconvert_exporter": "python",
   "pygments_lexer": "ipython3",
   "version": "3.7.4"
  }
 },
 "nbformat": 4,
 "nbformat_minor": 2
}
